{
 "cells": [
  {
   "cell_type": "code",
   "execution_count": 1,
   "id": "4b283c29",
   "metadata": {},
   "outputs": [],
   "source": [
    "MY_STRING=\"MY NAME IS RAHUL\""
   ]
  },
  {
   "cell_type": "code",
   "execution_count": 2,
   "id": "c9920cab",
   "metadata": {},
   "outputs": [
    {
     "data": {
      "text/plain": [
       "'E'"
      ]
     },
     "execution_count": 2,
     "metadata": {},
     "output_type": "execute_result"
    }
   ],
   "source": [
    "MY_STRING[6]"
   ]
  },
  {
   "cell_type": "code",
   "execution_count": 3,
   "id": "bb59059e",
   "metadata": {},
   "outputs": [
    {
     "data": {
      "text/plain": [
       "'E IS R'"
      ]
     },
     "execution_count": 3,
     "metadata": {},
     "output_type": "execute_result"
    }
   ],
   "source": [
    "MY_STRING[6:12]"
   ]
  },
  {
   "cell_type": "code",
   "execution_count": 4,
   "id": "62c13478",
   "metadata": {},
   "outputs": [
    {
     "data": {
      "text/plain": [
       "'E IS RAHUL'"
      ]
     },
     "execution_count": 4,
     "metadata": {},
     "output_type": "execute_result"
    }
   ],
   "source": [
    "MY_STRING[6:]"
   ]
  },
  {
   "cell_type": "code",
   "execution_count": 5,
   "id": "25ada6a1",
   "metadata": {},
   "outputs": [
    {
     "data": {
      "text/plain": [
       "'my name is rahul'"
      ]
     },
     "execution_count": 5,
     "metadata": {},
     "output_type": "execute_result"
    }
   ],
   "source": [
    "MY_STRING.lower()"
   ]
  },
  {
   "cell_type": "code",
   "execution_count": 6,
   "id": "26770a4d",
   "metadata": {},
   "outputs": [
    {
     "data": {
      "text/plain": [
       "16"
      ]
     },
     "execution_count": 6,
     "metadata": {},
     "output_type": "execute_result"
    }
   ],
   "source": [
    "len(MY_STRING)"
   ]
  },
  {
   "cell_type": "code",
   "execution_count": null,
   "id": "8ac20323",
   "metadata": {},
   "outputs": [],
   "source": []
  }
 ],
 "metadata": {
  "kernelspec": {
   "display_name": "Python 3 (ipykernel)",
   "language": "python",
   "name": "python3"
  },
  "language_info": {
   "codemirror_mode": {
    "name": "ipython",
    "version": 3
   },
   "file_extension": ".py",
   "mimetype": "text/x-python",
   "name": "python",
   "nbconvert_exporter": "python",
   "pygments_lexer": "ipython3",
   "version": "3.9.13"
  }
 },
 "nbformat": 4,
 "nbformat_minor": 5
}
